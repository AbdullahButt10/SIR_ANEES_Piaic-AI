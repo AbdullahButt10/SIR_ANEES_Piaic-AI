{
 "cells": [
  {
   "cell_type": "code",
   "execution_count": 10,
   "metadata": {},
   "outputs": [
    {
     "name": "stdout",
     "output_type": "stream",
     "text": [
      "The file cc.txt has about 82 total characters.\n",
      "The file cc.txt has about 10 words.\n",
      "The file cc.txt has about 8 lines.\n",
      "The file cc.txt has about 82 char.\n",
      "The file cc.txt has about 16 space.\n",
      "The file cc.txt has about 8 paragraph.\n",
      "The file cc.txt has about 8 tabs.\n",
      "The file cc.txt has about 58 special character.\n"
     ]
    }
   ],
   "source": [
    "def count_words(aa):\n",
    "    \"\"\"Count the approximate number of words in a file.\"\"\"\n",
    "\n",
    "    try:\n",
    "        with open(aa) as f_obj:\n",
    "            contents = f_obj.read()\n",
    "    except FileNotFoundError:\n",
    "        msg = \"Sorry, the file \" + aa + \" does not exist.\"\n",
    "        print(msg)\n",
    "    else:\n",
    "        \n",
    "        # Count approximate number of words in the file.\n",
    "        \n",
    "        words = contents.split()\n",
    "        lines = contents.splitlines()\n",
    "        para = contents.splitlines()\n",
    "        tabs = contents.splitlines()\n",
    "        \n",
    "        total_char = len(contents)\n",
    "        num_words = len(words)\n",
    "        num_lines = len(lines)\n",
    "        num_char = len(contents)\n",
    "        num_para = len(para)\n",
    "        num_tab = len(tabs)\n",
    "        \n",
    "        print(\"The file \" + aa + \" has about \" + str(total_char) + \" total characters.\")\n",
    "        print(\"The file \" + aa + \" has about \" + str(num_words) + \" words.\")\n",
    "        print(\"The file \" + aa + \" has about \" + str(num_lines) + \" lines.\")\n",
    "        print(\"The file \" + aa + \" has about \" + str(num_char) + \" char.\")\n",
    "       # total = sum(char.isspace() or char == \"0\" for char in contents)\n",
    "       # zero_count = sum(char == \"0\" for char in contents)\n",
    "        space_count = sum(char.isspace() for char in contents)\n",
    "        print(\"The file \" + aa + \" has about \" + str(space_count) + \" space.\")\n",
    "        print(\"The file \" + aa + \" has about \" + str(num_para) + \" paragraph.\")\n",
    "        print(\"The file \" + aa + \" has about \" + str(num_tab) + \" tabs.\")\n",
    "        special_char = total_char - space_count - num_tab\n",
    "        print(\"The file \" + aa + \" has about \" + str(special_char) + \" special character.\")\n",
    "    \n",
    "    \n",
    "\n",
    "#filenames = ['alice.txt', 'siddhartha.txt', 'moby_dick.txt', 'little_women.txt']\n",
    "filenames = ['cc.txt']\n",
    "for aa in filenames:\n",
    "    count_words(aa)\n"
   ]
  },
  {
   "cell_type": "code",
   "execution_count": null,
   "metadata": {},
   "outputs": [],
   "source": []
  },
  {
   "cell_type": "code",
   "execution_count": null,
   "metadata": {},
   "outputs": [],
   "source": []
  },
  {
   "cell_type": "code",
   "execution_count": null,
   "metadata": {},
   "outputs": [],
   "source": []
  }
 ],
 "metadata": {
  "kernelspec": {
   "display_name": "Python 3",
   "language": "python",
   "name": "python3"
  },
  "language_info": {
   "codemirror_mode": {
    "name": "ipython",
    "version": 3
   },
   "file_extension": ".py",
   "mimetype": "text/x-python",
   "name": "python",
   "nbconvert_exporter": "python",
   "pygments_lexer": "ipython3",
   "version": "3.7.3"
  }
 },
 "nbformat": 4,
 "nbformat_minor": 2
}
